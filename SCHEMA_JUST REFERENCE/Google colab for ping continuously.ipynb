
# Google Colab Keep-Alive Service for Cloud Run
# This notebook will keep your Cloud Run service awake by pinging it only when needed

import requests
import time
import json
from datetime import datetime
import threading
from IPython.display import display, clear_output, HTML

# Configuration
SERVICE_URL = "https://domain-analysis-backend-456664817971.europe-west1.run.app/queue/status"
CHECK_INTERVAL = 3          # Check status every 3 seconds

class KeepAliveMonitor:
    def __init__(self):
        self.running = False
        self.thread = None
        self.stats = {
            'total_checks': 0,
            'total_pings': 0,
            'successful_checks': 0,
            'successful_pings': 0,
            'failed_checks': 0,
            'failed_pings': 0,
            'last_check_time': None,
            'last_ping_time': None,
            'last_queue_size': 0,
            'last_status': 'unknown',
            'start_time': None,
            'conditions_met': 0,
            'conditions_not_met': 0
        }
    
    def check_status(self):
        """Check service status and return JSON data"""
        try:
            response = requests.get(SERVICE_URL, timeout=10)
            response.raise_for_status()
            data = response.json()
            
            self.stats['successful_checks'] += 1
            self.stats['last_check_time'] = datetime.now()
            self.stats['last_queue_size'] = data.get('emails_in_queue', 0)
            self.stats['last_status'] = data.get('status', 'unknown')
            
            return data
        except Exception as e:
            self.stats['failed_checks'] += 1
            print(f"❌ Status check failed: {str(e)}")
            return None
    
    def send_keep_alive_ping(self):
        """Send keep-alive ping (separate request)"""
        try:
            response = requests.get(SERVICE_URL, timeout=10)
            response.raise_for_status()
            
            self.stats['successful_pings'] += 1
            self.stats['last_ping_time'] = datetime.now()
            
            return True
        except Exception as e:
            self.stats['failed_pings'] += 1
            print(f"❌ Keep-alive ping failed: {str(e)}")
            return False
    
    def should_send_ping(self, status_data):
        """Check if we should send keep-alive ping"""
        if not status_data:
            return False
        
        queue_size = status_data.get('emails_in_queue', 0)
        service_status = status_data.get('status', '').lower()
        
        # Only ping if status is "processing" AND emails_in_queue > 0
        return service_status == 'processing' and queue_size > 0
    
    def monitor_loop(self):
        """Main monitoring loop"""
        while self.running:
            self.stats['total_checks'] += 1
            
            # Check the service status
            status_data = self.check_status()
            
            current_time = datetime.now().strftime("%H:%M:%S")
            
            if status_data:
                queue_size = status_data.get('emails_in_queue', 0)
                service_status = status_data.get('status', 'unknown')
                
                print(f"📊 [{current_time}] Queue: {queue_size} emails | Status: {service_status}")
                
                # Check if we should send keep-alive ping
                if self.should_send_ping(status_data):
                    self.stats['conditions_met'] += 1
                    self.stats['total_pings'] += 1
                    
                    # Send keep-alive ping
                    ping_success = self.send_keep_alive_ping()
                    if ping_success:
                        print(f"🔄 Keep-alive ping sent successfully")
                    
                else:
                    self.stats['conditions_not_met'] += 1
                    reasons = []
                    if service_status.lower() != 'processing':
                        reasons.append(f"status is '{service_status}'")
                    if queue_size <= 0:
                        reasons.append("queue is empty")
                    
                    print(f"⏸️  No ping needed: {' and '.join(reasons)}")
            else:
                print(f"❌ [{current_time}] Status check failed")
            
            # Wait for next check
            time.sleep(CHECK_INTERVAL)
    
    def start(self):
        """Start the keep-alive monitor"""
        if self.running:
            print("⚠️ Monitor already running!")
            return
        
        self.running = True
        self.stats['start_time'] = datetime.now()
        self.thread = threading.Thread(target=self.monitor_loop, daemon=True)
        self.thread.start()
        print("✅ Keep-alive monitor started!")
        print(f"🎯 Target: {SERVICE_URL}")
        print(f"⏱️ Check interval: {CHECK_INTERVAL} seconds")
        print(f"🔄 Keep-alive pings: Only when status='processing' AND emails_in_queue > 0")
        print("📊 Monitoring conditions every 3 seconds...")
    
    def stop(self):
        """Stop the keep-alive monitor"""
        self.running = False
        if self.thread:
            self.thread.join(timeout=5)
        print("🛑 Keep-alive monitor stopped!")
    
    def get_stats(self):
        """Display current statistics"""
        if self.stats['start_time']:
            runtime = datetime.now() - self.stats['start_time']
            uptime = str(runtime).split('.')[0]  # Remove microseconds
        else:
            uptime = "Not started"
        
        check_success_rate = 0
        ping_success_rate = 0
        
        if self.stats['total_checks'] > 0:
            check_success_rate = (self.stats['successful_checks'] / self.stats['total_checks']) * 100
        
        if self.stats['total_pings'] > 0:
            ping_success_rate = (self.stats['successful_pings'] / self.stats['total_pings']) * 100
        
        stats_html = f"""
        <div style="background: #f0f0f0; padding: 15px; border-radius: 5px; font-family: monospace;">
            <h3>📊 Keep-Alive Statistics</h3>
            <p><strong>Uptime:</strong> {uptime}</p>
            <p><strong>Status Checks:</strong> {self.stats['total_checks']} (✅{self.stats['successful_checks']} ❌{self.stats['failed_checks']}) - {check_success_rate:.1f}% success</p>
            <p><strong>Keep-Alive Pings:</strong> {self.stats['total_pings']} (✅{self.stats['successful_pings']} ❌{self.stats['failed_pings']}) - {ping_success_rate:.1f}% success</p>
            <p><strong>Conditions Met:</strong> {self.stats['conditions_met']} times</p>
            <p><strong>Conditions Not Met:</strong> {self.stats['conditions_not_met']} times</p>
            <p><strong>Current Queue Size:</strong> {self.stats['last_queue_size']} emails</p>
            <p><strong>Current Status:</strong> {self.stats['last_status']}</p>
            <p><strong>Last Check:</strong> {self.stats['last_check_time']}</p>
            <p><strong>Last Ping:</strong> {self.stats['last_ping_time']}</p>
        </div>
        """
        display(HTML(stats_html))

# Initialize the monitor
monitor = KeepAliveMonitor()

print("🚀 Google Colab Keep-Alive Service Ready!")
print("=" * 50)

# Test connection first
print("🔍 Testing connection...")
test_response = monitor.check_status()
if test_response:
    print(f"✅ Connection successful!")
    queue_size = test_response.get('emails_in_queue', 0)
    status = test_response.get('status', 'unknown')
    print(f"📧 Current queue: {queue_size} emails")
    print(f"📊 Status: {status}")
    
    # Check if conditions are met
    if monitor.should_send_ping(test_response):
        print("🔄 Conditions met - will send keep-alive pings")
    else:
        print("⏸️  Conditions not met - will only monitor (no pings)")
else:
    print("❌ Connection failed! Please check the URL.")

print("\n" + "=" * 50)
print("🎮 CONTROLS:")
print("• Run 'monitor.start()' to begin monitoring")
print("• Run 'monitor.stop()' to stop monitoring")
print("• Run 'monitor.get_stats()' to see statistics")
print("• Run 'monitor.check_status()' for manual status check")

# Example usage cells:

# Start monitoring
# monitor.start()

# Check statistics
# monitor.get_stats()

# Manual status check
# result = monitor.check_status()
# if result:
#     print(f"Manual check result: {result}")
#     print(f"Should ping: {monitor.should_send_ping(result)}")

# Stop monitor
# monitor.stop()
